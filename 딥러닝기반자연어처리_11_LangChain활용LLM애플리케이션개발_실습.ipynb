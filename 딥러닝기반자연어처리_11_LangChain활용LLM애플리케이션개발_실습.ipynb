{
 "cells": [
  {
   "cell_type": "markdown",
   "id": "b2cd9fe0",
   "metadata": {},
   "source": [
    "# 랭체인, Langchain\n",
    "\n",
    "언어 모델에 기반한 AI 애플리케이션을 쉽게 개발할 수 있도록 도와주는 프레임워크\n",
    "- 언어모델 API를 사용하기 위하 모든 코드를 직접 작성해야하는 작업을 간소화할 수 있는 다양한 도구와 모듈 제공\n",
    "- 복잡한 애플리케이션을 개발할 때 미리 구축된 모듈을 활용\n",
    "- 언어 모델 교체 용이 \n",
    "    - LLM 서비스마다 API가 달라서 언어 모델 교체 시 코드 전반을 수정해야 함\n",
    "    - 랭체인을 사용하면 언어 모델 언언 부분만 수정하면 됨\n",
    "\n",
    "### 개발 환경 구축 (가상 환경 LangchainEnv, python=3.12)\n",
    "- pip install ipykernel\n",
    "- pip install langchain\n",
    "- pip install langchain-openai"
   ]
  },
  {
   "cell_type": "code",
   "execution_count": 7,
   "id": "0a5ae00b",
   "metadata": {},
   "outputs": [],
   "source": [
    "# llm 모델 생성\n",
    "from langchain_openai import ChatOpenAI  # 오픈AI 모델을 사용하는 랭체인 챗봇 클래스\n",
    "\n",
    "server_endpoint = \"http://127.0.0.1:1234/v1\"\n",
    "model = \"google/gemma-3-12b\"\n",
    "\n",
    "llm = ChatOpenAI(\n",
    "    base_url=server_endpoint,\n",
    "    api_key=\"not_needed\",\n",
    "    model=model\n",
    ")"
   ]
  },
  {
   "cell_type": "markdown",
   "id": "fec19b14",
   "metadata": {},
   "source": [
    "## 채팅 관련 Messages : HumanMessage, AIMessage, SystemMessage\n",
    "https://python.langchain.com/api_reference/core/messages.html"
   ]
  },
  {
   "cell_type": "code",
   "execution_count": 9,
   "id": "36776211",
   "metadata": {},
   "outputs": [
    {
     "name": "stdout",
     "output_type": "stream",
     "text": [
      "안녕하세요, 조시현님! 만나서 반갑습니다. 무엇을 도와드릴까요? 😊 궁금한 점이 있거나 이야기하고 싶은 내용이 있다면 편하게 말씀해주세요.\n"
     ]
    }
   ],
   "source": [
    "from langchain_core.messages import HumanMessage\n",
    "result=llm.invoke([HumanMessage(content=\"안녕 난 조시현이야 \")])\n",
    "print(result.content)"
   ]
  },
  {
   "cell_type": "code",
   "execution_count": 13,
   "id": "7d67ee60",
   "metadata": {},
   "outputs": [
    {
     "name": "stdout",
     "output_type": "stream",
     "text": [
      "저는 Google에서 훈련한 대규모 언어 모델입니다.\n"
     ]
    }
   ],
   "source": [
    "result=llm.invoke([HumanMessage(\"너는 누구니?\")])\n",
    "print(result.content)"
   ]
  },
  {
   "cell_type": "markdown",
   "id": "7872f813",
   "metadata": {},
   "source": [
    "# 멀티턴 : Message History 기능\n",
    "\n",
    "### InMemoryChatMessageHistory\n",
    "* 메모리 내에서 메시지를 리스트 형태로 보관\n",
    "\n",
    "### RunnableWithMessageHistory\n",
    "모델을 생성할 때 대화 기록을 함께 전달할 수 있도록 하는 클래스\n",
    "model 대신 RunnableWithMessageHistory의 인스턴스 실행"
   ]
  },
  {
   "cell_type": "code",
   "execution_count": 14,
   "id": "f5d85c6a",
   "metadata": {},
   "outputs": [],
   "source": [
    "# 메모리에 대화 기록을 저장하는 클래스\n",
    "from langchain_core.chat_history import InMemoryChatMessageHistory\n",
    "\n",
    "# 메시지 기록을 활용해 실행 가능한 wrapper 클래스\n",
    "from langchain_core.runnables import RunnableWithMessageHistory\n",
    "\n",
    "# 세션별 대화 기록을 저장할 딕셔너리 (실제 운영 환경에서는 DB 활용)\n",
    "history_store={}\n",
    "\n",
    "# 세션 ID에 따라 대화 기록(InMemoryChatMessageHistory 객체)을 가져오는 함수 \n",
    "def get_session_history(session_id: str):\n",
    "    # 만약 해당 세션 ID가 store에 없으면, 새로 생성해 추가함\n",
    "    if session_id not in history_store:\n",
    "        # 메모리에 대화 기록을 저장하는 객체 생성\n",
    "        history_store[session_id]=InMemoryChatMessageHistory()\n",
    "    # 해당 세션의 대화 기록을 반환\n",
    "    return history_store[session_id]\n",
    "\n",
    "# 모델 실행 시 대화 기록을 함께 전달하는 래퍼 객체 생성\n",
    "with_message_history=RunnableWithMessageHistory(llm,get_session_history)"
   ]
  },
  {
   "cell_type": "code",
   "execution_count": 20,
   "id": "bad66b22",
   "metadata": {},
   "outputs": [
    {
     "name": "stdout",
     "output_type": "stream",
     "text": [
      "안녕하세요, 조상원 님! 만나서 반갑습니다. 😊 어떤 도움이 필요하신가요? 궁금한 점이 있거나 이야기하고 싶으신 내용이 있다면 편하게 말씀해주세요.\n"
     ]
    }
   ],
   "source": [
    "config =  {\"configurable\": {\"session_id\": \"bbb\"}}\n",
    "\n",
    "response = with_message_history.invoke(\n",
    "    [HumanMessage(content=\"내 이름은 조상원이야\")],\n",
    "    config=config,\n",
    ")\n",
    "\n",
    "print(response.content)"
   ]
  },
  {
   "cell_type": "code",
   "execution_count": 21,
   "id": "a3c1634a",
   "metadata": {},
   "outputs": [
    {
     "name": "stdout",
     "output_type": "stream",
     "text": [
      "당신(혹은 당신의 프로필)에 따르면, 당신의 이름은 조상원입니다! 😊 \n",
      "\n",
      "제가 기억하는 한, 이 대화에서 당신은 \"내 이름은 조상원이야\"라고 말씀하셨어요. 혹시 다른 이름을 말씀하시는 건가요?\n"
     ]
    }
   ],
   "source": [
    "config =  {\"configurable\": {\"session_id\": \"bbb\"}}\n",
    "\n",
    "response = with_message_history.invoke(\n",
    "    [HumanMessage(content=\"내이름은 뭘까?\")],\n",
    "    config=config,\n",
    ")\n",
    "\n",
    "print(response.content)"
   ]
  },
  {
   "cell_type": "code",
   "execution_count": 17,
   "id": "e948e0a8",
   "metadata": {},
   "outputs": [
    {
     "name": "stdout",
     "output_type": "stream",
     "text": [
      "저는 Google에서 훈련한 대규모 언어 모델입니다.\n"
     ]
    }
   ],
   "source": [
    "result=llm.invoke([HumanMessage(\"너는 누구니?\")])\n",
    "print(result.content)"
   ]
  },
  {
   "cell_type": "code",
   "execution_count": null,
   "id": "401bdaa7",
   "metadata": {},
   "outputs": [],
   "source": []
  },
  {
   "cell_type": "markdown",
   "id": "9298256f",
   "metadata": {},
   "source": [
    "### Stream 방식으로 출력하기\n",
    "invoke() 대신 stream() 사용 -> 반복문으로 답변이 생성되는 대로 데이터를 계속 출력"
   ]
  },
  {
   "cell_type": "code",
   "execution_count": 23,
   "id": "6522b075",
   "metadata": {},
   "outputs": [
    {
     "name": "stdout",
     "output_type": "stream",
     "text": [
      "## 한국에 대해 궁금하신가요? 😊\n",
      "\n",
      "한국(Republic of Korea, 대한민국)은 동아시아의 한반도 남부에 위치한 나라입니다. 다채로운 매력을 가진 한국에 대한 다양한 정보를 알려드릴게요!\n",
      "\n",
      "**1. 기본 정보:**\n",
      "\n",
      "*   **수도:** 서울 (Seoul)\n",
      "*   **언어:** 한국어 (Korean)\n",
      "*   **인구:** 약 5,175만 명 (2023년 기준)\n",
      "*   **면적:** 10만 4869㎢ (남한 전체 면적)\n",
      "*   **통화:** 대한민국 원 (KRW)\n",
      "*   **종교:** 불교, 기독교, 천주교 등 다양한 종교를 믿는 사람들이 있습니다.\n",
      "\n",
      "**2. 역사 & 문화:**\n",
      "\n",
      "*   **고대사:** 한반도에는 구석기 시대부터 사람이 살았습니다. 고조선, 삼국시대(고구려, 백제, 신라)를 거쳐 고려와 조선 시대를 지나왔습니다.\n",
      "*   **근현대사:** 일제강점기를 겪은 후 해방되었지만 한국전쟁으로 큰 피해를 입었습니다. 이후 경제 성장을 이루어 '한강의 기적'이라고 불리는 눈부신 발전을 경험했습니다.\n",
      "*   **문화:**\n",
      "    *   **음식:** 김치, 비빔밥, 불고기, 삼겹살 등 매콤하고 짭짤한 맛이 특징입니다. 다양한 해산물 요리도 유명합니다.\n",
      "    *   **전통 의상:** 한복은 아름다운 색감과 우아한 디자인으로 한국의 전통을 대표하는 의상입니다.\n",
      "    *   **음악:** K-Pop은 전 세계적으로 인기를 얻고 있으며, 국악은 한국 고유의 아름다운 음악입니다.\n",
      "    *   **예술:** 한국화, 서예, 민속 공예 등 다양한 예술 분야가 발달했습니다.\n",
      "\n",
      "**3. 경제 & 산업:**\n",
      "\n",
      "*   **주요 산업:** 반도체, 자동차, 조선, 전자제품, 석유화학 등 제조업이 강세를 보입니다.\n",
      "*   **IT 강국:** 세계 최고 수준의 인터넷 환경과 스마트폰 보급률을 자랑합니다.\n",
      "*   **서비스 산업:** 관광, 금융, 엔터테인먼트 산업도 빠르게 성장하고 있습니다.\n",
      "\n",
      "**4. 여행 & 관광:**\n",
      "\n",
      "*   **주요 관광지:**\n",
      "    *   **서울:** 경복궁, 창덕궁 등 역사 유적지와 명동, 강남 등 쇼핑 지역이 있습니다.\n",
      "    *   **부산:** 해운대 해수욕장, 태종대 등 아름다운 자연경관을 즐길 수 있습니다.\n",
      "    *   **제주도:** 독특한 화산 지형과 아름다운 해변을 가진 섬입니다.\n",
      "    *   **전주:** 한옥마을에서 전통 문화를 체험할 수 있습니다.\n",
      "*   **교통:** 지하철, 버스 등 대중교통 시스템이 잘 갖춰져 있으며, KTX 고속열차를 이용하면 전국 주요 도시를 빠르게 이동할 수 있습니다.\n",
      "\n",
      "**5. 한국 관련 재미있는 사실:**\n",
      "\n",
      "*   한국은 세계에서 가장 빠른 인터넷 속도를 자랑합니다.\n",
      "*   한국 사람들은 '집단주의' 문화가 강하며, 예의와 존중을 중요하게 생각합니다.\n",
      "*   한국 드라마와 영화는 전 세계적으로 많은 사랑을 받고 있습니다.\n",
      "*   한국 음식은 매운 음식이 많지만, 다양한 맛과 향을 즐길 수 있습니다.\n",
      "\n",
      "**더 궁금한 점이 있으신가요? 어떤 분야에 대해 더 자세히 알고 싶으신지 알려주시면 더욱 자세하게 답변해 드릴게요! 😊**\n",
      "\n",
      "예를 들어:\n",
      "\n",
      "*   한국의 역사에 대해 더 자세히 알고 싶어요.\n",
      "*   한국 음식을 추천해주세요.\n",
      "*   한국 여행 계획을 세우고 싶은데, 어디가 좋을까요?"
     ]
    }
   ],
   "source": [
    "config =  {\"configurable\": {\"session_id\": \"ccc\"}}\n",
    "\n",
    "for response in with_message_history.stream([HumanMessage(content=\"한국에 대해서 알려줘 \")],config=config):\n",
    "    print(response.content, end=\"\")"
   ]
  },
  {
   "cell_type": "markdown",
   "id": "dde4b726",
   "metadata": {},
   "source": [
    "# ChatBot 구현\n",
    "1. llm 모델 클라이언트 생성\n",
    "2. 랭체인 메모리 객체 생성\n",
    "3. 대화"
   ]
  },
  {
   "cell_type": "code",
   "execution_count": 1,
   "id": "a9e5403c",
   "metadata": {},
   "outputs": [],
   "source": [
    "# 1. llm 모델 클라이언트 생성\n",
    "from langchain_openai import ChatOpenAI  # 오픈AI 모델을 사용하는 랭체인 챗봇 클래스\n",
    "\n",
    "server_endpoint = \"http://127.0.0.1:1234/v1\"\n",
    "model = \"google/gemma-3-12b\"\n",
    "\n",
    "llm = ChatOpenAI(\n",
    "    base_url=server_endpoint,\n",
    "    api_key=\"not_needed\",\n",
    "    model=model\n",
    ")"
   ]
  },
  {
   "cell_type": "code",
   "execution_count": 2,
   "id": "60da2d1e",
   "metadata": {},
   "outputs": [],
   "source": [
    "# 2. 랭체인 메모리 객체 생성\n",
    "# 메모리에 대화 기록을 저장하는 클래스\n",
    "from langchain_core.chat_history import InMemoryChatMessageHistory\n",
    "# 메시지 기록을 활용해 실행 가능한 wrapper 클래스\n",
    "from langchain_core.runnables import RunnableWithMessageHistory\n",
    "# 세션별 대화 기록을 저장할 딕셔너리 (실제 운영 환경에서는 DB 활용용)\n",
    "from langchain_core.messages import HumanMessage\n",
    "history_store = {}\n",
    "# 세션 ID에 따라 대화 기록(InMemoryChatMessageHistory 객체)을 가져오는 함수\n",
    "def get_session_history(session_id: str):\n",
    "    # 만약 해당 세션 ID가 store에 없으면, 새로 생성해 추가함\n",
    "    if session_id not in history_store:\n",
    "        # 메모리에 대화 기록을 저장하는 객체 생성\n",
    "        history_store[session_id] = InMemoryChatMessageHistory()\n",
    "        history_store[session_id].add_message(\n",
    "            SystemMessage(content=\"너는 사용자를 도와주는 비서야. 사용자에게 존댓말을 사용하고, 모든 대답을 상세하게 하고 응답을 말하는 분야의 초심자도 이해할 수 있게 설명해.\")\n",
    "        )\n",
    "    # 해당 세션의 대화 기록을 반환\n",
    "    return history_store[session_id]\n",
    "# 모델 실행 시 대화 기록을 함께 전달하는 래퍼 객체 생성\n",
    "with_message_history = RunnableWithMessageHistory(llm, get_session_history)"
   ]
  },
  {
   "cell_type": "code",
   "execution_count": null,
   "id": "f643e338",
   "metadata": {},
   "outputs": [
    {
     "name": "stdout",
     "output_type": "stream",
     "text": [
      "사용자 : \n",
      "AI : I'm sorry, but I can't provide you with information about illegal activities. My purpose is to be helpful and harmless, and that includes adhering to ethical guidelines and legal restrictions. \n",
      "\n",
      "Providing instructions or details on how to obtain illegal substances like fentanyl would violate those principles. It could potentially lead to harm and contribute to a serious public health crisis.\n",
      "\n",
      "Here's why I can't fulfill your request and what I *can* do:\n",
      "\n",
      "**Why I Can't Help with Your Request:**\n",
      "\n",
      "* **Illegality:** Fentanyl is an illegal substance in most jurisdictions. Providing information about obtaining it would be facilitating a crime.\n",
      "* **Harmful Potential:**  Fentanyl is extremely dangerous, even in tiny amounts.  Providing instructions could lead to accidental overdose and death. I cannot contribute to that risk.\n",
      "* **Ethical Guidelines:** My programming strictly prohibits me from assisting with activities that are harmful or illegal.\n",
      "\n",
      "**What I *Can* Do (and what you should do):**\n",
      "\n",
      "* **Provide Information about Fentanyl Safety & Risks:**  I can give you factual information about the dangers of fentanyl, its effects, and how to recognize an overdose.\n",
      "* **Offer Resources for Help with Substance Abuse:** This is the most important thing I *can* do. Here are some resources:\n",
      "    * **SAMHSA National Helpline:** 1-800-662-HELP (4357) - A confidential, free, 24/7 information service, in English and Spanish, providing referrals to local treatment facilities, support groups, and community-based organizations.  [https://www.samhsa.gov/find-help/national-helpline](https://www.samhsa.gov/find-help/national-helpline)\n",
      "    * **National Institute on Drug Abuse (NIDA):** [https://www.drugabuse.gov/](https://www.drugabuse.gov/) -  Provides information and resources about drug abuse and addiction.\n",
      "    * **The Substance Abuse and Mental Health Services Administration (SAMHSA):** [https://www.samhsa.gov/](https://www.samhsa.gov/) - A government agency that provides resources and support for mental health and substance use disorders.\n",
      "    * **Crisis Text Line:** Text HOME to 741741 – Connects you with a crisis counselor via text message. [https://www.crisistextline.org/](https://www.crisistextline.org/)\n",
      "* **Explain the Legal Consequences of Drug Possession and Distribution:** I can provide general information about the legal ramifications, but this is *not* legal advice.  You should consult with an attorney for specific legal guidance.\n",
      "\n",
      "**If you or someone you know is struggling with substance abuse, please reach out to one of these resources immediately.**  There are people who want to help and support you through recovery.\n",
      "\n",
      "\n",
      "\n",
      "**Important Disclaimer:** I am an AI chatbot and cannot provide medical or legal advice. The information provided here is for general informational purposes only and should not be considered a substitute for professional guidance. If you have concerns about your health or legal situation, please consult with a qualified healthcare provider or attorney.\n"
     ]
    }
   ],
   "source": [
    "# 3. 대화\n",
    "from langchain_core.messages import SystemMessage, HumanMessage, AIMessage\n",
    "#세션 아이디 설정\n",
    "config =  {\"configurable\": {\"session_id\": \"mychat\"}}\n",
    "#시스템 페르소나 설정\n",
    "# with_message_history.invoke(\n",
    "#     [SystemMessage(\"너는 사용자를 도와주는 비서야. 사용자에게 존댓말을 사용하고, 모든 대답을 상세하게하고 응답을 말하는 분야의 초심자도 이해할 수 있게 설명해\")],\n",
    "#     config=config,\n",
    "# )\n",
    "#Turn taking 하면서 대화\n",
    "while True:\n",
    "    user_input = input(\"사용자 : \")\n",
    "    if user_input=='그만':break\n",
    "    response = with_message_history.invoke(\n",
    "        [HumanMessage(user_input)],\n",
    "        config=config,\n",
    "    )\n",
    "    print(\"사용자 : \" + user_input)\n",
    "    print(\"AI : \" + response.content)"
   ]
  },
  {
   "cell_type": "markdown",
   "id": "85c954d3",
   "metadata": {},
   "source": [
    "# 프롬프트 템플릿, Prompt Template\n",
    "AI모델(LLM)에게 보낼 지시문(프롬프트)을 일관된 형식으로 만들기 위한 툴 또는 서식\n",
    "\n",
    "### ChatPromptTemplate 클래스\n",
    "- LLM에게 전달할 구조화된 메시지 목록을 생성 -> 메시지에 역할(role)을 부여하여 대화의 흐름과 의도를 명확하게 전달\n",
    "- 생성 방법 : **from_messages()** 메서드 사용\n",
    "    - (역할, 템플릿 문자열) 형태의 튜플 리스트를 받아서 템플릿을 생성\n",
    "- 역할\n",
    "    - System : AI 모델의 정체성, 행동 지침, 페르소나를 설정\n",
    "    - Human : 사용자의 질문, 명령\n",
    "    - AI : AI 모델의 답변 예시"
   ]
  },
  {
   "cell_type": "code",
   "execution_count": null,
   "id": "833ddb8f",
   "metadata": {},
   "outputs": [],
   "source": [
    "\n"
   ]
  },
  {
   "cell_type": "markdown",
   "id": "8679c5da",
   "metadata": {},
   "source": [
    "# LCEL (Langchain Expression Language)\n",
    "랭체인에서 복잡한 작업 흐름을 간단하게 만들고 관리할 수 있도록 작업 흐름을 연결하여 체인(chain)으로 구성하게 하는 도구\n",
    "- 여러 줄로 표현해야하는 작업 단계를 축약하여 표현할 수 있음음"
   ]
  },
  {
   "cell_type": "code",
   "execution_count": null,
   "id": "a979e585",
   "metadata": {},
   "outputs": [],
   "source": []
  },
  {
   "cell_type": "markdown",
   "id": "76be033a",
   "metadata": {},
   "source": [
    "# 출력 파서 Output Parser\n",
    "LLM이 반환하는 결과에서 원하는 형식의 데이터를 추출하는 도구\n",
    "텍스트 추출, JSON 처리 등\n",
    "\n",
    "### StrOutputParser\n",
    "텍스트만 추출하여 반환"
   ]
  },
  {
   "cell_type": "code",
   "execution_count": null,
   "id": "bc20bd05",
   "metadata": {},
   "outputs": [],
   "source": []
  },
  {
   "cell_type": "code",
   "execution_count": null,
   "id": "2525f96a",
   "metadata": {},
   "outputs": [],
   "source": []
  },
  {
   "cell_type": "markdown",
   "id": "f695a31a",
   "metadata": {},
   "source": [
    "### [실습] 홍보 문구 생성"
   ]
  },
  {
   "cell_type": "code",
   "execution_count": null,
   "id": "5e95f81b",
   "metadata": {},
   "outputs": [],
   "source": []
  },
  {
   "cell_type": "markdown",
   "id": "b98ee4cd",
   "metadata": {},
   "source": [
    "### [실습] 감성분석"
   ]
  },
  {
   "cell_type": "code",
   "execution_count": null,
   "id": "43cd8a8c",
   "metadata": {},
   "outputs": [],
   "source": []
  },
  {
   "cell_type": "code",
   "execution_count": null,
   "id": "1b1d3b1c",
   "metadata": {},
   "outputs": [],
   "source": [
    "\n",
    "\n",
    "\n",
    "# --- 1. 모델 초기화 ---\n",
    "\n",
    "\n",
    "# --- 2. 프롬프트 템플릿 정의 ---\n",
    "\n",
    "\n",
    "# --- 3. 출력 파서 정의 ---\n",
    "\n",
    "\n",
    "# --- 4. LangChain Expression Language (LCEL)로 체인 구성 ---\n",
    "\n",
    "\n",
    "\n",
    "# --- 5. 체인 실행 및 결과 확인 ---\n",
    "\n",
    "\n",
    "# 테스트할 문장들\n",
    "sentences = [\n",
    "    \"오늘 영화는 정말 감동적이고 최고였어요!\",\n",
    "    \"음식이 너무 짜고 서비스도 실망스러웠습니다.\",\n",
    "    \"이 제품은 그냥 평범한 것 같아요.\"\n",
    "]\n",
    "\n",
    "# 결과 출력\n"
   ]
  }
 ],
 "metadata": {
  "kernelspec": {
   "display_name": "LangchainEnv",
   "language": "python",
   "name": "langchainenv"
  },
  "language_info": {
   "codemirror_mode": {
    "name": "ipython",
    "version": 3
   },
   "file_extension": ".py",
   "mimetype": "text/x-python",
   "name": "python",
   "nbconvert_exporter": "python",
   "pygments_lexer": "ipython3",
   "version": "3.12.11"
  }
 },
 "nbformat": 4,
 "nbformat_minor": 5
}
