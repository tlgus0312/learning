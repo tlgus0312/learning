{
 "cells": [
  {
   "cell_type": "markdown",
   "id": "ae83aa81-27d8-4dff-9059-fedf51de8aee",
   "metadata": {},
   "source": [
    "# 순환 신경망 기반 감성 분석 (영화 리뷰)"
   ]
  },
  {
   "cell_type": "markdown",
   "id": "6dc11ee0",
   "metadata": {},
   "source": [
    "## 1. 데이터 준비\n",
    "* 전처리된 한글 영화평 데이터 사용 (./data/Korean_movie_reviews_2016.csv)"
   ]
  },
  {
   "cell_type": "code",
   "execution_count": 5,
   "id": "c34f1569-a56e-4590-9ac8-dc1aa601341e",
   "metadata": {
    "scrolled": true
   },
   "outputs": [
    {
     "data": {
      "text/html": [
       "<div>\n",
       "<style scoped>\n",
       "    .dataframe tbody tr th:only-of-type {\n",
       "        vertical-align: middle;\n",
       "    }\n",
       "\n",
       "    .dataframe tbody tr th {\n",
       "        vertical-align: top;\n",
       "    }\n",
       "\n",
       "    .dataframe thead th {\n",
       "        text-align: right;\n",
       "    }\n",
       "</style>\n",
       "<table border=\"1\" class=\"dataframe\">\n",
       "  <thead>\n",
       "    <tr style=\"text-align: right;\">\n",
       "      <th></th>\n",
       "      <th>review</th>\n",
       "      <th>label</th>\n",
       "    </tr>\n",
       "  </thead>\n",
       "  <tbody>\n",
       "    <tr>\n",
       "      <th>0</th>\n",
       "      <td>부산 행 때문 너무 기대하고 봤</td>\n",
       "      <td>0</td>\n",
       "    </tr>\n",
       "    <tr>\n",
       "      <th>1</th>\n",
       "      <td>한국 좀비 영화 어색하지 않게 만들어졌 놀랍</td>\n",
       "      <td>1</td>\n",
       "    </tr>\n",
       "    <tr>\n",
       "      <th>2</th>\n",
       "      <td>조금 전 보고 왔 지루하다 언제 끝나 이 생각 드</td>\n",
       "      <td>0</td>\n",
       "    </tr>\n",
       "    <tr>\n",
       "      <th>3</th>\n",
       "      <td>평 밥 끼 먹자 돈 니 내고 미친 놈 정신사 좀 알 싶어 그래 밥 먹다 먹던 숟가락...</td>\n",
       "      <td>1</td>\n",
       "    </tr>\n",
       "    <tr>\n",
       "      <th>4</th>\n",
       "      <td>점수 대가 과 이 엑소 팬 어중간 점수 줄리 없겠 클레멘타인 이후 최고 평점 조작 ...</td>\n",
       "      <td>0</td>\n",
       "    </tr>\n",
       "  </tbody>\n",
       "</table>\n",
       "</div>"
      ],
      "text/plain": [
       "                                              review  label\n",
       "0                                  부산 행 때문 너무 기대하고 봤      0\n",
       "1                           한국 좀비 영화 어색하지 않게 만들어졌 놀랍      1\n",
       "2                        조금 전 보고 왔 지루하다 언제 끝나 이 생각 드      0\n",
       "3  평 밥 끼 먹자 돈 니 내고 미친 놈 정신사 좀 알 싶어 그래 밥 먹다 먹던 숟가락...      1\n",
       "4  점수 대가 과 이 엑소 팬 어중간 점수 줄리 없겠 클레멘타인 이후 최고 평점 조작 ...      0"
      ]
     },
     "execution_count": 5,
     "metadata": {},
     "output_type": "execute_result"
    }
   ],
   "source": [
    "import pandas as pd \n",
    "review_df=pd.read_csv('../data/korean_movie_reviews_2016.csv')\n",
    "review_df.head()"
   ]
  },
  {
   "cell_type": "markdown",
   "id": "f5822e5b-c91a-4e4e-8a19-208838249535",
   "metadata": {},
   "source": [
    "### 1-1. 입력-출력, 학습-테스트 데이터 분리"
   ]
  },
  {
   "cell_type": "code",
   "execution_count": 7,
   "id": "bdc2af52",
   "metadata": {},
   "outputs": [
    {
     "data": {
      "text/plain": [
       "(165384, 165384)"
      ]
     },
     "execution_count": 7,
     "metadata": {},
     "output_type": "execute_result"
    }
   ],
   "source": [
    "# 입력 데이터와 정답 데이터 추출\n",
    "input_list= list(review_df.review)\n",
    "label_list=list(review_df.label)\n",
    "len(input_list), len(label_list)"
   ]
  },
  {
   "cell_type": "code",
   "execution_count": 11,
   "id": "53fd8664-6889-4b03-a428-e440770b1b9c",
   "metadata": {
    "scrolled": true
   },
   "outputs": [
    {
     "data": {
      "text/plain": [
       "165384"
      ]
     },
     "execution_count": 11,
     "metadata": {},
     "output_type": "execute_result"
    }
   ],
   "source": [
    "# 입력 데이터를 문장별로 토큰 단위로 분리\n",
    "tokenized_input_list =[review.strip().split() for review in input_list]\n",
    "len(tokenized_input_list)"
   ]
  },
  {
   "cell_type": "code",
   "execution_count": 23,
   "id": "805fbaaf-f0a9-4985-aee8-b9960f779fd4",
   "metadata": {},
   "outputs": [
    {
     "data": {
      "text/html": [
       "<div>\n",
       "<style scoped>\n",
       "    .dataframe tbody tr th:only-of-type {\n",
       "        vertical-align: middle;\n",
       "    }\n",
       "\n",
       "    .dataframe tbody tr th {\n",
       "        vertical-align: top;\n",
       "    }\n",
       "\n",
       "    .dataframe thead th {\n",
       "        text-align: right;\n",
       "    }\n",
       "</style>\n",
       "<table border=\"1\" class=\"dataframe\">\n",
       "  <thead>\n",
       "    <tr style=\"text-align: right;\">\n",
       "      <th></th>\n",
       "      <th>label</th>\n",
       "      <th>count</th>\n",
       "    </tr>\n",
       "  </thead>\n",
       "  <tbody>\n",
       "    <tr>\n",
       "      <th>0</th>\n",
       "      <td>0</td>\n",
       "      <td>78578</td>\n",
       "    </tr>\n",
       "    <tr>\n",
       "      <th>1</th>\n",
       "      <td>1</td>\n",
       "      <td>86806</td>\n",
       "    </tr>\n",
       "  </tbody>\n",
       "</table>\n",
       "</div>"
      ],
      "text/plain": [
       "   label  count\n",
       "0      0  78578\n",
       "1      1  86806"
      ]
     },
     "execution_count": 23,
     "metadata": {},
     "output_type": "execute_result"
    }
   ],
   "source": [
    "# 범주별 데이터 수 차이 확인을 위해 label grouppy 집계\n",
    "review_df.groupby('label').size().reset_index(name='count')\n"
   ]
  },
  {
   "cell_type": "code",
   "execution_count": 25,
   "id": "0f5c003c-95a1-40f3-8e66-7ae4d68868a9",
   "metadata": {},
   "outputs": [
    {
     "data": {
      "text/plain": [
       "<Axes: xlabel='label'>"
      ]
     },
     "execution_count": 25,
     "metadata": {},
     "output_type": "execute_result"
    },
    {
     "data": {
      "image/png": "[encoded data removed]",
      "text/plain": [
       "<Figure size 640x480 with 1 Axes>"
      ]
     },
     "metadata": {},
     "output_type": "display_data"
    }
   ],
   "source": [
    "# 범주별 데이터 수로 막대그래프 그려보기\n",
    "review_df.label.value_counts().plot(kind='bar')\n",
    "#hist는 누적이다. \n",
    "#스트리트파이 레이블의 비율을 봐야됨 현실에 편항이되어있으면 봐도 됨 "
   ]
  },
  {
   "cell_type": "code",
   "execution_count": 15,
   "id": "e49192d5-166d-45e4-91fa-c2b2064d071c",
   "metadata": {},
   "outputs": [
    {
     "data": {
      "text/plain": [
       "(148845, 148845, 16539, 16539)"
      ]
     },
     "execution_count": 15,
     "metadata": {},
     "output_type": "execute_result"
    }
   ],
   "source": [
    "# 학습 데이터와 평가 데이터 분리\n",
    "#정답을 반영해야된다. \n",
    "from sklearn.model_selection import train_test_split\n",
    "X_train, X_test, y_train, y_test= train_test_split(tokenized_input_list, label_list, test_size=0.1)\n",
    "len(X_train),len(y_train),len(X_test), len(y_test)"
   ]
  },
  {
   "cell_type": "markdown",
   "id": "bb0850cf-e140-49dc-8da4-481e4377e766",
   "metadata": {},
   "source": [
    "### 1-2. 입력 데이터 Integer Encoding\n",
    "* num_words = 사용한 단어 수 + 1 (0은 OOV에 할당)"
   ]
  },
  {
   "cell_type": "markdown",
   "id": "0712fdad-a84c-4805-914c-96196810852a",
   "metadata": {},
   "source": [
    "#### [참고] 벡터에 사용할 단어수 구하기 (vocab_size)"
   ]
  },
  {
   "cell_type": "code",
   "execution_count": null,
   "id": "45058014-cadc-4b14-9331-850ade86a992",
   "metadata": {},
   "outputs": [],
   "source": [
    "# 단어 수 제한없이 tokenizer 생성해보기\n"
   ]
  },
  {
   "cell_type": "code",
   "execution_count": null,
   "id": "d96b5d5c-8c84-4eff-901c-21ba26c04413",
   "metadata": {},
   "outputs": [],
   "source": [
    "# 등장 빈도수가 threshold 미만인 단어들이 이 데이터에서 얼만큼의 비중을 차지하는지 확인\n",
    "threshold = 3\n",
    "total_cnt = len(test_tokenizer.word_index) # 단어의 수\n",
    "rare_cnt = 0 # 등장 빈도수가 threshold보다 작은 단어의 개수를 카운트\n",
    "total_freq = 0 # 훈련 데이터의 전체 단어 빈도수 총 합\n",
    "rare_freq = 0 # 등장 빈도수가 threshold보다 작은 단어의 등장 빈도수의 총 합\n",
    "\n",
    "# 단어와 빈도수의 쌍(pair)을 key와 value로 받아서, value가 threshold보다 작은 경우\n",
    "# rare_cnt와 rare_freq를 update\n"
   ]
  },
  {
   "cell_type": "markdown",
   "id": "86acb20c-152a-40de-b3d3-6ce45bec3726",
   "metadata": {},
   "source": [
    "#### 1-2-1. 단어 집합 및 index 생성"
   ]
  },
  {
   "cell_type": "code",
   "execution_count": 33,
   "id": "16b4b61e-3156-42f2-aa4d-3f91229250fb",
   "metadata": {},
   "outputs": [
    {
     "data": {
      "text/plain": [
       "49592"
      ]
     },
     "execution_count": 33,
     "metadata": {},
     "output_type": "execute_result"
    }
   ],
   "source": [
    "# Integer Encoding을 위한 tokenizer 학습\n",
    "from tensorflow.keras.preprocessing.text import Tokenizer\n",
    "vocab_size=25000\n",
    "max_features=vocab_size+1\n",
    "tokenizer =Tokenizer(num_words=max_features)\n",
    "# fit_on_texts()안에 코퍼스를 입력으로 하면 빈도수를 기준으로 단어 집합을 생성.\n",
    "tokenizer.fit_on_texts(X_train)\n",
    "len(tokenizer.word_index)\n",
    "#integerdptj  25000개만 사용 "
   ]
  },
  {
   "cell_type": "markdown",
   "id": "b7d29d19-785e-499b-99cd-2b0c88994ae4",
   "metadata": {},
   "source": [
    "#### 1-2-2. Integer Encoding"
   ]
  },
  {
   "cell_type": "code",
   "execution_count": 41,
   "id": "d3d76976-e026-4b81-9cbd-3c446d5bab46",
   "metadata": {},
   "outputs": [
    {
     "name": "stdout",
     "output_type": "stream",
     "text": [
      "[[2459, 21, 1, 145, 272, 182, 493, 3010, 54, 87], [75, 1, 489, 6, 2363, 1, 1137, 901, 50, 4076, 95, 248, 275, 1, 489, 1521, 24], [230, 1145, 313, 1], [52, 5786, 1381, 2, 65, 390, 52, 1, 1931, 19, 901, 387, 2610, 61, 227, 1593, 656, 92, 10481, 694, 254, 412], [52, 1, 1387, 7838, 85, 85, 2560]]\n"
     ]
    }
   ],
   "source": [
    "# 학습 데이터 Integer Encoding\n",
    "train_sequences=tokenizer.texts_to_sequences(X_train)\n",
    "len(train_sequences)\n",
    "print(train_sequences[:5])"
   ]
  },
  {
   "cell_type": "code",
   "execution_count": 43,
   "id": "2789eaff-4ff3-4de9-aba3-2c5846e0efa1",
   "metadata": {},
   "outputs": [
    {
     "name": "stdout",
     "output_type": "stream",
     "text": [
      "[[6, 3012, 15, 1547, 969, 1350, 9279, 2674, 1873, 29, 472, 658, 2882, 14606, 544, 4144, 6869, 306, 344, 255, 993, 29, 987, 6783, 3622, 36, 1643, 134, 3607, 8, 6, 2005], [2151, 214, 2105, 20, 1166, 775, 198, 66, 106, 20, 417, 12324, 96, 1890, 185, 5815, 496], [39, 439, 978, 1860, 182], [30, 24, 14, 123, 104, 17026], [349, 1105]]\n"
     ]
    }
   ],
   "source": [
    "# 테스트 데이터 Integer Encoding\n",
    "test_sequences=tokenizer.texts_to_sequences(X_test)\n",
    "print(test_sequences[:5])\n",
    "#할당이 된다 리스트는 있는데 아무것도 없는것은 결측치 "
   ]
  },
  {
   "cell_type": "markdown",
   "id": "7e3bfa9e-3300-4627-99ee-938275aa61fd",
   "metadata": {},
   "source": [
    "#### 1-2-3. Integer Encoding이 길이가 0인 review 삭제"
   ]
  },
  {
   "cell_type": "code",
   "execution_count": 47,
   "id": "c573ca5f-53d1-48fe-a71b-dedd73b96641",
   "metadata": {},
   "outputs": [
    {
     "data": {
      "text/plain": [
       "(128, 11)"
      ]
     },
     "execution_count": 47,
     "metadata": {},
     "output_type": "execute_result"
    }
   ],
   "source": [
    "# 각 샘플들의 길이를 확인해서 길이가 0인 샘플들의 인덱스를 받아오기\n",
    "drop_train=[index for index, sequence in enumerate(train_sequences) if len(sequence)==0]\n",
    "#결측지가 0임 길이가 0이면 \n",
    "drop_test=[index for index, sequence in enumerate(test_sequences) if len(sequence)==0]\n",
    "len(drop_train),len(drop_test)"
   ]
  },
  {
   "cell_type": "code",
   "execution_count": null,
   "id": "0c8e81f1-c180-4e08-9f28-a6e1cb656880",
   "metadata": {},
   "outputs": [],
   "source": [
    "# 학습 데이터에서 삭제\n",
    "#인덱스만 모아서 list로 모와야됨 동적배열이라 \n",
    "#메모리 할당받아야됨 \n"
   ]
  },
  {
   "cell_type": "code",
   "execution_count": null,
   "id": "9ab5ca27-572a-4939-8054-7f913d0741cf",
   "metadata": {},
   "outputs": [],
   "source": [
    "# 테스트 데이터에서 삭제\n"
   ]
  },
  {
   "cell_type": "markdown",
   "id": "1e62717b-8a2e-4034-a402-ccdb421d25a6",
   "metadata": {},
   "source": [
    "### 1-3. Padding"
   ]
  },
  {
   "cell_type": "markdown",
   "id": "b0f557db-a5fd-47a5-9818-8780b50d5501",
   "metadata": {},
   "source": [
    "#### 1-3-1. 입력 벡터의 길이 정하기 (대부분의 문장이 잘리지 않는 크기)  "
   ]
  },
  {
   "cell_type": "code",
   "execution_count": null,
   "id": "2305f527",
   "metadata": {
    "scrolled": true
   },
   "outputs": [],
   "source": [
    "# max_len 정하기 : 단어 길이의 histogram을 대부분을 포함하는 단어 길이 확인\n"
   ]
  },
  {
   "cell_type": "code",
   "execution_count": null,
   "id": "a28c9ec0",
   "metadata": {
    "scrolled": true
   },
   "outputs": [],
   "source": [
    "# 통계 정보 확인\n"
   ]
  },
  {
   "cell_type": "code",
   "execution_count": null,
   "id": "d86acc65-218d-4a11-b512-77a2fc600d90",
   "metadata": {
    "scrolled": true
   },
   "outputs": [],
   "source": [
    "# 길이가 max_len 이하인 데이터의 비율 구하기\n"
   ]
  },
  {
   "cell_type": "markdown",
   "id": "809b3289-4d0c-448e-8447-562baeac8d5f",
   "metadata": {},
   "source": [
    "#### 1-3-2. 선택한 길이로 padding"
   ]
  },
  {
   "cell_type": "code",
   "execution_count": null,
   "id": "1a24f09f-5435-4575-ada8-e3e1c8ab12ee",
   "metadata": {},
   "outputs": [],
   "source": [
    "# max_len 설정\n",
    "\n",
    "# 학습 데이터 padding\n",
    "\n",
    "# 테스트 데이터 padding\n"
   ]
  },
  {
   "cell_type": "markdown",
   "id": "2f0d17d9-fa9a-4b08-a3a5-2d58364d28e8",
   "metadata": {},
   "source": [
    "### 1-4. 정답 데이터 One-hot Encoding"
   ]
  },
  {
   "cell_type": "code",
   "execution_count": null,
   "id": "f6bc2638-80f9-4070-add1-f5898e002309",
   "metadata": {},
   "outputs": [],
   "source": []
  },
  {
   "cell_type": "markdown",
   "id": "006ded7f",
   "metadata": {},
   "source": [
    "## 2. 모델 구축 (정의)"
   ]
  },
  {
   "cell_type": "code",
   "execution_count": null,
   "id": "d8ad8738-232a-4c3b-a665-01d5e92f024d",
   "metadata": {
    "scrolled": true
   },
   "outputs": [],
   "source": [
    "\n"
   ]
  },
  {
   "cell_type": "markdown",
   "id": "df98f562-2a04-43a6-a44f-44db5010075b",
   "metadata": {},
   "source": [
    "## 3. 모델 컴파일"
   ]
  },
  {
   "cell_type": "code",
   "execution_count": null,
   "id": "0dde205d-e061-4e53-a6d7-05006036ba99",
   "metadata": {},
   "outputs": [],
   "source": []
  },
  {
   "cell_type": "markdown",
   "id": "65c4d05c",
   "metadata": {},
   "source": [
    "## 4. 모델 학습"
   ]
  },
  {
   "cell_type": "code",
   "execution_count": null,
   "id": "8afefde5-17ad-4ce0-82bb-245322339f2f",
   "metadata": {},
   "outputs": [],
   "source": [
    "# EarlyStopping, ModelCheckpoint callback 함수 설정\n"
   ]
  },
  {
   "cell_type": "code",
   "execution_count": null,
   "id": "c5ea69fd-65eb-41ba-abb5-da58e00e8dd5",
   "metadata": {
    "scrolled": true
   },
   "outputs": [],
   "source": [
    "# 모델 학습\n"
   ]
  },
  {
   "cell_type": "markdown",
   "id": "6ab43f35",
   "metadata": {},
   "source": [
    "## 5. 모델 평가"
   ]
  },
  {
   "cell_type": "code",
   "execution_count": null,
   "id": "6254178b-9307-46c8-b3c9-0b5d49457d2c",
   "metadata": {},
   "outputs": [],
   "source": [
    "# 저장된 모델 로딩하여, 테스트 데이터로 평가\n"
   ]
  },
  {
   "cell_type": "code",
   "execution_count": null,
   "id": "573636ff-65b0-4b31-a84e-908411d45f36",
   "metadata": {},
   "outputs": [],
   "source": [
    "# predict로 테스트 데이터의 예측값 구기기\n"
   ]
  },
  {
   "cell_type": "code",
   "execution_count": null,
   "id": "e8a8d91c-c4d3-4d91-9ab8-9330d4ffc19f",
   "metadata": {},
   "outputs": [],
   "source": [
    "# sklearn의 classification_report()로 평가 결과 확인\n"
   ]
  },
  {
   "cell_type": "markdown",
   "id": "711737c6-d094-400b-9e2d-73ee405ea30a",
   "metadata": {},
   "source": [
    "## 입력 문장 긍부정 판단"
   ]
  },
  {
   "cell_type": "code",
   "execution_count": null,
   "id": "0b20dfe9-98e9-4b40-a54f-dcfa7ef457af",
   "metadata": {},
   "outputs": [],
   "source": [
    "# 입력된 문장의 긍부정 판단\n",
    "review = \"영화가 재미있다.\"\n"
   ]
  },
  {
   "cell_type": "code",
   "execution_count": null,
   "id": "e1749e77-6fd5-4186-8ad1-a9fa10f2bdbf",
   "metadata": {},
   "outputs": [],
   "source": [
    "# 긍부정 판단 함수\n"
   ]
  },
  {
   "cell_type": "code",
   "execution_count": null,
   "id": "fc0cd98e-e16a-4b97-85b9-38291314ccad",
   "metadata": {},
   "outputs": [],
   "source": [
    "# 함수 테스트\n",
    "reviews = [\n",
    "    '이 영화 개꿀잼 ㅋㅋㅋ',\n",
    "    '하품만 나온다',\n",
    "    '이 영화 핵노잼 ㅠㅠ',\n",
    "    '이딴게 영화냐 ㅉㅉ',\n",
    "    '와 개쩐다',\n",
    "    '감독 뭐하는 놈이냐',\n",
    "    '정말 세계관 최강자들의 영화다'\n",
    "]\n",
    "\n"
   ]
  },
  {
   "cell_type": "code",
   "execution_count": null,
   "id": "d65a5adb-7926-468c-8611-da63d6059ae6",
   "metadata": {},
   "outputs": [],
   "source": [
    "# 입력 받은 문장의 긍부정 판단"
   ]
  }
 ],
 "metadata": {
  "kernelspec": {
   "display_name": "DeepNLPEnv",
   "language": "python",
   "name": "deepnlpenv"
  },
  "language_info": {
   "codemirror_mode": {
    "name": "ipython",
    "version": 3
   },
   "file_extension": ".py",
   "mimetype": "text/x-python",
   "name": "python",
   "nbconvert_exporter": "python",
   "pygments_lexer": "ipython3",
   "version": "3.9.21"
  }
 },
 "nbformat": 4,
 "nbformat_minor": 5
}
