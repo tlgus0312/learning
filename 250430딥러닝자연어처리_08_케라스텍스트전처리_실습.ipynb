{
 "cells": [
  {
   "cell_type": "markdown",
   "id": "0e5175ba-6c89-4fbe-a2fd-9372e5e57fde",
   "metadata": {},
   "source": [
    "# 1. Keras 텍스트 전처리\n",
    "    1. [수치 데이터로 변환] 텍스트 토큰화 및 정수 인코딩\n",
    "    2. [같은 길이로 만들기] 패딩 (padding)"
   ]
  },
  {
   "cell_type": "code",
   "execution_count": 1,
   "id": "2566c6a4-7cd9-41fd-b4c6-d22cd8c2ca58",
   "metadata": {},
   "outputs": [
    {
     "data": {
      "text/plain": [
       "'2.10.0'"
      ]
     },
     "execution_count": 1,
     "metadata": {},
     "output_type": "execute_result"
    }
   ],
   "source": [
    "# tensorflow 설치 확인\n",
    "import tensorflow\n",
    "tensorflow.__version__"
   ]
  },
  {
   "cell_type": "code",
   "execution_count": 8,
   "id": "fbb5483c-c2b7-4709-b63b-8d335974f755",
   "metadata": {},
   "outputs": [
    {
     "ename": "AttributeError",
     "evalue": "module 'tensorflow._api.v2.config' has no attribute 'list_physical_device'",
     "output_type": "error",
     "traceback": [
      "\u001b[1;31m---------------------------------------------------------------------------\u001b[0m",
      "\u001b[1;31mAttributeError\u001b[0m                            Traceback (most recent call last)",
      "Cell \u001b[1;32mIn[8], line 1\u001b[0m\n\u001b[1;32m----> 1\u001b[0m \u001b[38;5;28mprint\u001b[39m(\u001b[43mtensorflow\u001b[49m\u001b[38;5;241;43m.\u001b[39;49m\u001b[43mconfig\u001b[49m\u001b[38;5;241;43m.\u001b[39;49m\u001b[43mlist_physical_device\u001b[49m(\u001b[38;5;124m'\u001b[39m\u001b[38;5;124mGPU\u001b[39m\u001b[38;5;124m'\u001b[39m))\n",
      "\u001b[1;31mAttributeError\u001b[0m: module 'tensorflow._api.v2.config' has no attribute 'list_physical_device'"
     ]
    }
   ],
   "source": [
    "print(tensorflow.config.list_physical_device('GPU'))"
   ]
  },
  {
   "cell_type": "code",
   "execution_count": 5,
   "id": "d55fd7a2-947e-4448-97d4-7e6a32616d7b",
   "metadata": {},
   "outputs": [],
   "source": [
    "# 연습 샘플\n",
    "texts = [\n",
    "    \"나는 학교에 간다\",\n",
    "    \"너는 도서관에 간다\",\n",
    "    \"그는 시장에 간다\"\n",
    "]\n",
    "#texts = [ [\"나\", \"학교\", \"가\"], [\"너\", \"도서관\", \"가\"], [\"그\", \"시장\", \"가\"]]"
   ]
  },
  {
   "cell_type": "markdown",
   "id": "33b1eae6-33b8-41e0-9410-25e62e18555e",
   "metadata": {},
   "source": [
    "## 1-1. 텍스트 데이터 Integer Encoding\n",
    "- num_words = 사용할 단어 수 + 1"
   ]
  },
  {
   "cell_type": "code",
   "execution_count": 7,
   "id": "db2be7fb-81b9-4a83-a8cd-2fb3b7be91f9",
   "metadata": {},
   "outputs": [
    {
     "name": "stdout",
     "output_type": "stream",
     "text": [
      "단어 사전: {'<OOV>': 1, '간다': 2, '나는': 3, '학교에': 4, '너는': 5, '도서관에': 6, '그는': 7, '시장에': 8}\n",
      "정수 인코딩 결과: [[1, 1, 2], [1, 1, 2], [1, 1, 2]]\n"
     ]
    }
   ],
   "source": [
    "# Tokenizer 객체 생성 (특징 벡터용 단어 수와 OOV 토큰 지정)\n",
    "from tensorflow.keras.preprocessing.text import Tokenizer\n",
    "tokenizer=Tokenizer(num_words=3, oov_token=\"<OOV>\")\n",
    "# 특징 집합 생성 및 정수 indexing\n",
    "tokenizer.fit_on_texts(texts)\n",
    "print(\"단어 사전:\",tokenizer.word_index)\n",
    "\n",
    "# 입력 텍스트 리스트의 integer encoding\n",
    "encoded_texts =tokenizer.texts_to_sequences(texts)\n",
    "print(\"정수 인코딩 결과:\", encoded_texts)\n"
   ]
  },
  {
   "cell_type": "markdown",
   "id": "6ab0c588-da3e-4603-a7e2-c91d9555bf4d",
   "metadata": {},
   "source": [
    "## 1-2. Padding : 입력 시퀀스의 길이를 동일하게 조정하기"
   ]
  },
  {
   "cell_type": "code",
   "execution_count": 9,
   "id": "2e9337d9-891d-4360-bff9-979721460717",
   "metadata": {},
   "outputs": [
    {
     "name": "stdout",
     "output_type": "stream",
     "text": [
      "패딩된 시퀀스 :\n",
      "[[1 1]\n",
      " [1 1]\n",
      " [1 1]]\n"
     ]
    }
   ],
   "source": [
    "from tensorflow.keras.preprocessing.sequence import pad_sequences\n",
    "padded_sequences = pad_sequences(encoded_texts, maxlen=2, padding='post', truncating='post')\n",
    "#길이의 분포를 보고 함 \n",
    "print(\"패딩된 시퀀스 :\")\n",
    "print(padded_sequences)"
   ]
  },
  {
   "cell_type": "markdown",
   "id": "eea93547-cb44-4e79-bc8f-5795f9075515",
   "metadata": {},
   "source": [
    "## 1-3. 정답 데이터 One-hot Encoding"
   ]
  },
  {
   "cell_type": "code",
   "execution_count": 11,
   "id": "bae2d1a3-14e3-483e-b9e0-06905c7debe3",
   "metadata": {},
   "outputs": [
    {
     "data": {
      "text/plain": [
       "array([[0., 1., 0., 0., 0., 0., 0., 0.],\n",
       "       [0., 0., 0., 0., 1., 0., 0., 0.],\n",
       "       [0., 0., 1., 0., 0., 0., 0., 0.],\n",
       "       [0., 0., 0., 0., 0., 0., 0., 1.],\n",
       "       [0., 1., 0., 0., 0., 0., 0., 0.],\n",
       "       [0., 0., 1., 0., 0., 0., 0., 0.],\n",
       "       [0., 0., 0., 1., 0., 0., 0., 0.]], dtype=float32)"
      ]
     },
     "execution_count": 11,
     "metadata": {},
     "output_type": "execute_result"
    }
   ],
   "source": [
    "label = [1, 4, 2, 7, 1, 2, 3]\n",
    "from tensorflow.keras.utils import to_categorical \n",
    "\n",
    "encoded_label = to_categorical(label)\n",
    "encoded_label\n",
    "#0부터 최대값을 확인\n",
    "#수치화해서 하기 "
   ]
  },
  {
   "cell_type": "markdown",
   "id": "f2d1fd2c-8373-46b5-ab1b-9f2eb6593860",
   "metadata": {},
   "source": [
    "# 2. 텍스트 전처리를 위한 파라미터 결정하기\n",
    "- Integer Encoding을 위한 단어(특징) 집합의 크기 정하기 (Tokenizer의 num_words)\n",
    "- Padding을 위한 시퀀스 길이 정하기 (pad_sequences의 max_len) "
   ]
  },
  {
   "cell_type": "code",
   "execution_count": 15,
   "id": "9ebd4eb7-9361-41ed-a8d5-fb0b930194d9",
   "metadata": {},
   "outputs": [
    {
     "data": {
      "text/plain": [
       "['부산 행 때문 너무 기대하고 봤', '한국 좀비 영화 어색하지 않게 만들어졌 놀랍']"
      ]
     },
     "execution_count": 15,
     "metadata": {},
     "output_type": "execute_result"
    }
   ],
   "source": [
    "# 데이터 로딩 및 실습 데이터 추출\n",
    "import pandas as pd\n",
    "texts = list(pd.read_csv('../data/Korean_movie_reviews_2016.csv').review)\n",
    "texts[:2]"
   ]
  },
  {
   "cell_type": "markdown",
   "id": "b38f50e1-ce73-41a4-911e-79c26cf0a8e9",
   "metadata": {},
   "source": [
    "## 2-1. 단어 집합의 크기 정하기 (Tokenizer의 num_words)\n",
    "등장 빈도수가 기준값(threshold)보다 적은 단어의 비중을 확인하여 정하기\n",
    "1. corpus의 전체 단어 수 (total_cnt)와 전체 빈도수 (total_freq) 계산\n",
    "2. threshold보다 빈도수가 적은 단어수 카운트 (rare_cnt)와 빈도수 (rare_freq) 계산\n",
    "3. 희귀 단어의 비율(rare_cnt/total_cnt)과 희귀 등장 빈도 비율 계산(rare_freq/total_freq)\n",
    "4. 희귀 단어를 뺀 단어 수 -> 단어 집합의 크기 산정"
   ]
  },
  {
   "cell_type": "code",
   "execution_count": 27,
   "id": "afca6156-3b72-4b32-b590-380ba57056b7",
   "metadata": {},
   "outputs": [
    {
     "data": {
      "text/plain": [
       "'52,011.00'"
      ]
     },
     "execution_count": 27,
     "metadata": {},
     "output_type": "execute_result"
    }
   ],
   "source": [
    "# Tokenizer로 단어-빈도 사전 생성\n",
    "from tensorflow.keras.preprocessing.text import Tokenizer\n",
    "tokenizer=Tokenizer()\n",
    "tokenizer.fit_on_texts(texts)\n",
    "f'{len(tokenizer.word_index):,}'\n",
    "f'{len(tokenizer.word_index):,.2f}'\n",
    "#세자리 넣으려면 f string을 작성하면 됨 95.23 소수점 .2f"
   ]
  },
  {
   "cell_type": "code",
   "execution_count": 49,
   "id": "98faf05d-5d27-417b-bc4d-b3b262a704f5",
   "metadata": {},
   "outputs": [],
   "source": [
    "#tokenizer.word_counts.items() #key value형태가 넘어옴 \n"
   ]
  },
  {
   "cell_type": "code",
   "execution_count": 43,
   "id": "ef8bda56-57fe-4455-9351-ff96c1f0811b",
   "metadata": {},
   "outputs": [
    {
     "name": "stdout",
     "output_type": "stream",
     "text": [
      "전체 단어:52,011개1,888,659번\n",
      "희귀 단어:0개 0번\n",
      "희귀 단어 비율:0.00%\n",
      "희귀 단어 빈도 비율:0.00%\n",
      "희귀 단어를 뺀 단어 수 :52,011개\n"
     ]
    }
   ],
   "source": [
    "# 등장 빈도수가 threshold회 미만인 단어들이 이 데이터에서 얼만큼의 비중을 차지하는지 확인\n",
    "threshold=1\n",
    "total_cnt=len(tokenizer.word_index)\n",
    "total_freq=0\n",
    "rare_cnt=0\n",
    "rare_freq=0\n",
    "\n",
    "for word, freq in tokenizer.word_counts.items():\n",
    "    total_freq += freq\n",
    "\n",
    "    if(freq < threshold):\n",
    "        rare_cnt += 1\n",
    "        rare_freq += freq\n",
    "        #희귀단어\n",
    "\n",
    "print(f'전체 단어:{total_cnt:,}개{total_freq:,}번')\n",
    "print(f'희귀 단어:{rare_cnt:,}개 {rare_freq:,}번')\n",
    "print(f'희귀 단어 비율:{(rare_cnt/total_cnt)*100:.2f}%')\n",
    "print(f'희귀 단어 빈도 비율:{(rare_cnt/total_freq) *100:.2f}%')\n",
    "print(f'희귀 단어를 뺀 단어 수 :{total_cnt- rare_cnt:,}개')"
   ]
  },
  {
   "cell_type": "markdown",
   "id": "65b194b0-6998-4c46-804e-eba9d12a0d13",
   "metadata": {},
   "source": [
    "## 2-2. Padding 길이 정하기 (pad_sequences의 max_len)\n",
    "1. 단어 길이 데이터로 DataFrame 생성\n",
    "2. 분포 시각화 : DataFrame의 Histogram 시각화 (df.hist())\n",
    "3. 단어 길이 통계 정보 확인 (df.describe())\n",
    "4. 텍스트의 길이가 설정한 max_len 이하인 비율 계산"
   ]
  },
  {
   "cell_type": "code",
   "execution_count": 55,
   "id": "d1d1bf86-7eff-4ef0-a8ff-11ed2164ff54",
   "metadata": {},
   "outputs": [
    {
     "data": {
      "text/plain": [
       "['부산 행 때문 너무 기대하고 봤',\n",
       " '한국 좀비 영화 어색하지 않게 만들어졌 놀랍',\n",
       " '조금 전 보고 왔 지루하다 언제 끝나 이 생각 드',\n",
       " '평 밥 끼 먹자 돈 니 내고 미친 놈 정신사 좀 알 싶어 그래 밥 먹다 먹던 숟가락 대가리 존나 때릴 지도 모르 일단 면상 확인하고 싶다 전화번호 남겨 놔 진짜',\n",
       " '점수 대가 과 이 엑소 팬 어중간 점수 줄리 없겠 클레멘타인 이후 최고 평점 조작 영화 아닐 생각 드네']"
      ]
     },
     "execution_count": 55,
     "metadata": {},
     "output_type": "execute_result"
    }
   ],
   "source": [
    "texts[:5]\n",
    "#단어 길이  DataFrame 생성  공백기준으로 "
   ]
  },
  {
   "cell_type": "code",
   "execution_count": 63,
   "id": "93e04d38-2e8d-4263-8a8b-439afb26622f",
   "metadata": {},
   "outputs": [
    {
     "data": {
      "text/html": [
       "<div>\n",
       "<style scoped>\n",
       "    .dataframe tbody tr th:only-of-type {\n",
       "        vertical-align: middle;\n",
       "    }\n",
       "\n",
       "    .dataframe tbody tr th {\n",
       "        vertical-align: top;\n",
       "    }\n",
       "\n",
       "    .dataframe thead th {\n",
       "        text-align: right;\n",
       "    }\n",
       "</style>\n",
       "<table border=\"1\" class=\"dataframe\">\n",
       "  <thead>\n",
       "    <tr style=\"text-align: right;\">\n",
       "      <th></th>\n",
       "      <th>length</th>\n",
       "    </tr>\n",
       "  </thead>\n",
       "  <tbody>\n",
       "    <tr>\n",
       "      <th>0</th>\n",
       "      <td>6</td>\n",
       "    </tr>\n",
       "    <tr>\n",
       "      <th>1</th>\n",
       "      <td>7</td>\n",
       "    </tr>\n",
       "    <tr>\n",
       "      <th>2</th>\n",
       "      <td>10</td>\n",
       "    </tr>\n",
       "    <tr>\n",
       "      <th>3</th>\n",
       "      <td>31</td>\n",
       "    </tr>\n",
       "    <tr>\n",
       "      <th>4</th>\n",
       "      <td>19</td>\n",
       "    </tr>\n",
       "  </tbody>\n",
       "</table>\n",
       "</div>"
      ],
      "text/plain": [
       "   length\n",
       "0       6\n",
       "1       7\n",
       "2      10\n",
       "3      31\n",
       "4      19"
      ]
     },
     "execution_count": 63,
     "metadata": {},
     "output_type": "execute_result"
    }
   ],
   "source": [
    "#단어 길이 데이터로 DataFrame 생성\n",
    "#길이를 정하기 \n",
    "#각데이터 분석은 -> 프레임 5개 #히스토그램 최대 중앙 평균 25 75퍼센트 \n",
    "#40개를 단어를 쓰겠다. 확인을 하겠음 \n",
    "import pandas as pd \n",
    "#단어 길이 리스트 생성\n",
    "#text가 text의 리스트임 \n",
    "#len_list=[texts]\n",
    "len_list=[len(text.split()) for text in texts]\n",
    "\n",
    "#단어 길이  DataFrame 생성\n",
    "len_df=pd.DataFrame(len_list,columns=['length']) \n",
    "len_df.head()\n",
    "#칼람명이 있어야됨 "
   ]
  },
  {
   "cell_type": "code",
   "execution_count": 71,
   "id": "b3031e16-7a95-4185-9760-8fae64350608",
   "metadata": {
    "scrolled": true
   },
   "outputs": [
    {
     "data": {
      "text/plain": [
       "array([[<Axes: title={'center': 'length'}>]], dtype=object)"
      ]
     },
     "execution_count": 71,
     "metadata": {},
     "output_type": "execute_result"
    },
    {
     "data": {
      "image/png": "[encoded data removed]",
      "text/plain": [
       "<Figure size 640x480 with 1 Axes>"
      ]
     },
     "metadata": {},
     "output_type": "display_data"
    }
   ],
   "source": [
    "# 분포 시각화 : DataFrame의 Histogram 시각화 (df.hist())\n",
    "len_df.describe()\n",
    "#1개 최대92 \n",
    "#15개 이하 \n",
    "len_df.hist()"
   ]
  },
  {
   "cell_type": "code",
   "execution_count": 105,
   "id": "6aa57894-fac6-4170-91d0-15b21aad9f33",
   "metadata": {
    "scrolled": true
   },
   "outputs": [],
   "source": [
    "#단어 길이 통계 정보 확인 (df.describe())\n",
    "max_len = 40\n",
    "count= 0 #max_len 이하인 문장의 수\n",
    "\n",
    "for length in len_list:\n",
    "    if(length <= max_len):\n",
    "        count +=1\n",
    "\n"
   ]
  },
  {
   "cell_type": "code",
   "execution_count": 107,
   "id": "8bc375e9-83ee-4ac2-a960-8a99756bacce",
   "metadata": {},
   "outputs": [
    {
     "name": "stdout",
     "output_type": "stream",
     "text": [
      "길이가 40 이하인 데이터 비울:99.58%\n"
     ]
    }
   ],
   "source": [
    "#텍스트의 길이가 설정한 max_len 이하인 비율 계산\n",
    "print(f'길이가 {max_len} 이하인 데이터 비울:{(count/len(len_list))* 100:.2f}%')\n",
    "#post면 앞에것이 짤림 #다른것이면 뒤에것이 짤림 "
   ]
  }
 ],
 "metadata": {
  "kernelspec": {
   "display_name": "nlp-tfgpu",
   "language": "python",
   "name": "nlp-tfgpu"
  },
  "language_info": {
   "codemirror_mode": {
    "name": "ipython",
    "version": 3
   },
   "file_extension": ".py",
   "mimetype": "text/x-python",
   "name": "python",
   "nbconvert_exporter": "python",
   "pygments_lexer": "ipython3",
   "version": "3.9.21"
  }
 },
 "nbformat": 4,
 "nbformat_minor": 5
}
